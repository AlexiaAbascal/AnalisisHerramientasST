{
 "cells": [
  {
   "cell_type": "code",
   "execution_count": 2,
   "id": "954be2e6",
   "metadata": {},
   "outputs": [],
   "source": [
    "import pandas as pd"
   ]
  },
  {
   "cell_type": "code",
   "execution_count": 10,
   "id": "c0f774ea",
   "metadata": {},
   "outputs": [
    {
     "data": {
      "text/html": [
       "<div>\n",
       "<style scoped>\n",
       "    .dataframe tbody tr th:only-of-type {\n",
       "        vertical-align: middle;\n",
       "    }\n",
       "\n",
       "    .dataframe tbody tr th {\n",
       "        vertical-align: top;\n",
       "    }\n",
       "\n",
       "    .dataframe thead th {\n",
       "        text-align: right;\n",
       "    }\n",
       "</style>\n",
       "<table border=\"1\" class=\"dataframe\">\n",
       "  <thead>\n",
       "    <tr style=\"text-align: right;\">\n",
       "      <th></th>\n",
       "      <th>Unnamed: 0</th>\n",
       "      <th>Column 1</th>\n",
       "      <th>Column 2</th>\n",
       "      <th>Column 3</th>\n",
       "    </tr>\n",
       "  </thead>\n",
       "  <tbody>\n",
       "    <tr>\n",
       "      <th>0</th>\n",
       "      <td>Row 1</td>\n",
       "      <td>15.5</td>\n",
       "      <td>12.14</td>\n",
       "      <td>65.90</td>\n",
       "    </tr>\n",
       "    <tr>\n",
       "      <th>1</th>\n",
       "      <td>Row 2</td>\n",
       "      <td>18.6</td>\n",
       "      <td>23.56</td>\n",
       "      <td>45.20</td>\n",
       "    </tr>\n",
       "    <tr>\n",
       "      <th>2</th>\n",
       "      <td>Row 3</td>\n",
       "      <td>21.4</td>\n",
       "      <td>47.02</td>\n",
       "      <td>21.63</td>\n",
       "    </tr>\n",
       "    <tr>\n",
       "      <th>3</th>\n",
       "      <td>Row 4</td>\n",
       "      <td>23.7</td>\n",
       "      <td>63.56</td>\n",
       "      <td>36.12</td>\n",
       "    </tr>\n",
       "  </tbody>\n",
       "</table>\n",
       "</div>"
      ],
      "text/plain": [
       "  Unnamed: 0  Column 1  Column 2  Column 3\n",
       "0      Row 1      15.5     12.14     65.90\n",
       "1      Row 2      18.6     23.56     45.20\n",
       "2      Row 3      21.4     47.02     21.63\n",
       "3      Row 4      23.7     63.56     36.12"
      ]
     },
     "execution_count": 10,
     "metadata": {},
     "output_type": "execute_result"
    }
   ],
   "source": [
    "df = pd.read_csv('../datasets/question3.csv')\n",
    "df #print(df)"
   ]
  },
  {
   "cell_type": "code",
   "execution_count": 11,
   "id": "210d23c7",
   "metadata": {},
   "outputs": [
    {
     "name": "stdout",
     "output_type": "stream",
     "text": [
      "<class 'pandas.core.frame.DataFrame'>\n",
      "RangeIndex: 4 entries, 0 to 3\n",
      "Data columns (total 4 columns):\n",
      " #   Column      Non-Null Count  Dtype  \n",
      "---  ------      --------------  -----  \n",
      " 0   Unnamed: 0  4 non-null      object \n",
      " 1   Column 1    4 non-null      float64\n",
      " 2   Column 2    4 non-null      float64\n",
      " 3   Column 3    4 non-null      float64\n",
      "dtypes: float64(3), object(1)\n",
      "memory usage: 256.0+ bytes\n"
     ]
    }
   ],
   "source": [
    "df.info()"
   ]
  },
  {
   "cell_type": "code",
   "execution_count": 12,
   "id": "16ff07a4",
   "metadata": {},
   "outputs": [
    {
     "data": {
      "text/html": [
       "<div>\n",
       "<style scoped>\n",
       "    .dataframe tbody tr th:only-of-type {\n",
       "        vertical-align: middle;\n",
       "    }\n",
       "\n",
       "    .dataframe tbody tr th {\n",
       "        vertical-align: top;\n",
       "    }\n",
       "\n",
       "    .dataframe thead th {\n",
       "        text-align: right;\n",
       "    }\n",
       "</style>\n",
       "<table border=\"1\" class=\"dataframe\">\n",
       "  <thead>\n",
       "    <tr style=\"text-align: right;\">\n",
       "      <th></th>\n",
       "      <th>Column 1</th>\n",
       "      <th>Column 2</th>\n",
       "      <th>Column 3</th>\n",
       "    </tr>\n",
       "  </thead>\n",
       "  <tbody>\n",
       "    <tr>\n",
       "      <th>count</th>\n",
       "      <td>4.000000</td>\n",
       "      <td>4.000000</td>\n",
       "      <td>4.000000</td>\n",
       "    </tr>\n",
       "    <tr>\n",
       "      <th>mean</th>\n",
       "      <td>19.800000</td>\n",
       "      <td>36.570000</td>\n",
       "      <td>42.212500</td>\n",
       "    </tr>\n",
       "    <tr>\n",
       "      <th>std</th>\n",
       "      <td>3.544949</td>\n",
       "      <td>23.121041</td>\n",
       "      <td>18.536277</td>\n",
       "    </tr>\n",
       "    <tr>\n",
       "      <th>min</th>\n",
       "      <td>15.500000</td>\n",
       "      <td>12.140000</td>\n",
       "      <td>21.630000</td>\n",
       "    </tr>\n",
       "    <tr>\n",
       "      <th>25%</th>\n",
       "      <td>17.825000</td>\n",
       "      <td>20.705000</td>\n",
       "      <td>32.497500</td>\n",
       "    </tr>\n",
       "    <tr>\n",
       "      <th>50%</th>\n",
       "      <td>20.000000</td>\n",
       "      <td>35.290000</td>\n",
       "      <td>40.660000</td>\n",
       "    </tr>\n",
       "    <tr>\n",
       "      <th>75%</th>\n",
       "      <td>21.975000</td>\n",
       "      <td>51.155000</td>\n",
       "      <td>50.375000</td>\n",
       "    </tr>\n",
       "    <tr>\n",
       "      <th>max</th>\n",
       "      <td>23.700000</td>\n",
       "      <td>63.560000</td>\n",
       "      <td>65.900000</td>\n",
       "    </tr>\n",
       "  </tbody>\n",
       "</table>\n",
       "</div>"
      ],
      "text/plain": [
       "        Column 1   Column 2   Column 3\n",
       "count   4.000000   4.000000   4.000000\n",
       "mean   19.800000  36.570000  42.212500\n",
       "std     3.544949  23.121041  18.536277\n",
       "min    15.500000  12.140000  21.630000\n",
       "25%    17.825000  20.705000  32.497500\n",
       "50%    20.000000  35.290000  40.660000\n",
       "75%    21.975000  51.155000  50.375000\n",
       "max    23.700000  63.560000  65.900000"
      ]
     },
     "execution_count": 12,
     "metadata": {},
     "output_type": "execute_result"
    }
   ],
   "source": [
    "df.describe()"
   ]
  },
  {
   "cell_type": "code",
   "execution_count": 8,
   "id": "320ae170",
   "metadata": {},
   "outputs": [
    {
     "data": {
      "text/html": [
       "<div>\n",
       "<style scoped>\n",
       "    .dataframe tbody tr th:only-of-type {\n",
       "        vertical-align: middle;\n",
       "    }\n",
       "\n",
       "    .dataframe tbody tr th {\n",
       "        vertical-align: top;\n",
       "    }\n",
       "\n",
       "    .dataframe thead th {\n",
       "        text-align: right;\n",
       "    }\n",
       "</style>\n",
       "<table border=\"1\" class=\"dataframe\">\n",
       "  <thead>\n",
       "    <tr style=\"text-align: right;\">\n",
       "      <th></th>\n",
       "      <th>salesman_id</th>\n",
       "      <th>name</th>\n",
       "      <th>city</th>\n",
       "      <th>commission</th>\n",
       "    </tr>\n",
       "  </thead>\n",
       "  <tbody>\n",
       "    <tr>\n",
       "      <th>0</th>\n",
       "      <td>5001</td>\n",
       "      <td>James Hoog</td>\n",
       "      <td>New York</td>\n",
       "      <td>0.15</td>\n",
       "    </tr>\n",
       "    <tr>\n",
       "      <th>1</th>\n",
       "      <td>5002</td>\n",
       "      <td>Nail Knite</td>\n",
       "      <td>Paris</td>\n",
       "      <td>0.13</td>\n",
       "    </tr>\n",
       "    <tr>\n",
       "      <th>2</th>\n",
       "      <td>5005</td>\n",
       "      <td>Pit Alex</td>\n",
       "      <td>London</td>\n",
       "      <td>0.11</td>\n",
       "    </tr>\n",
       "    <tr>\n",
       "      <th>3</th>\n",
       "      <td>5006</td>\n",
       "      <td>Mc Lyon</td>\n",
       "      <td>Paris</td>\n",
       "      <td>0.14</td>\n",
       "    </tr>\n",
       "    <tr>\n",
       "      <th>4</th>\n",
       "      <td>5007</td>\n",
       "      <td>Paul Adam</td>\n",
       "      <td>Rome</td>\n",
       "      <td>0.13</td>\n",
       "    </tr>\n",
       "    <tr>\n",
       "      <th>5</th>\n",
       "      <td>5003</td>\n",
       "      <td>Lauson Hen</td>\n",
       "      <td>San Jose</td>\n",
       "      <td>0.12</td>\n",
       "    </tr>\n",
       "  </tbody>\n",
       "</table>\n",
       "</div>"
      ],
      "text/plain": [
       "   salesman_id        name      city  commission \n",
       "0         5001  James Hoog  New York         0.15\n",
       "1         5002  Nail Knite     Paris         0.13\n",
       "2         5005    Pit Alex    London         0.11\n",
       "3         5006     Mc Lyon     Paris         0.14\n",
       "4         5007   Paul Adam      Rome         0.13\n",
       "5         5003  Lauson Hen  San Jose         0.12"
      ]
     },
     "execution_count": 8,
     "metadata": {},
     "output_type": "execute_result"
    }
   ],
   "source": [
    "df = pd.read_csv('../datasets/salesman.txt')\n",
    "df #print(df)"
   ]
  },
  {
   "cell_type": "code",
   "execution_count": 9,
   "id": "6546acb8",
   "metadata": {},
   "outputs": [
    {
     "name": "stdout",
     "output_type": "stream",
     "text": [
      "<class 'pandas.core.frame.DataFrame'>\n",
      "RangeIndex: 6 entries, 0 to 5\n",
      "Data columns (total 4 columns):\n",
      " #   Column       Non-Null Count  Dtype  \n",
      "---  ------       --------------  -----  \n",
      " 0   salesman_id  6 non-null      int64  \n",
      " 1   name         6 non-null      object \n",
      " 2   city         6 non-null      object \n",
      " 3   commission   6 non-null      float64\n",
      "dtypes: float64(1), int64(1), object(2)\n",
      "memory usage: 320.0+ bytes\n"
     ]
    }
   ],
   "source": [
    "df.info()"
   ]
  },
  {
   "cell_type": "code",
   "execution_count": 13,
   "id": "4a6f7cec",
   "metadata": {},
   "outputs": [
    {
     "data": {
      "text/html": [
       "<div>\n",
       "<style scoped>\n",
       "    .dataframe tbody tr th:only-of-type {\n",
       "        vertical-align: middle;\n",
       "    }\n",
       "\n",
       "    .dataframe tbody tr th {\n",
       "        vertical-align: top;\n",
       "    }\n",
       "\n",
       "    .dataframe thead th {\n",
       "        text-align: right;\n",
       "    }\n",
       "</style>\n",
       "<table border=\"1\" class=\"dataframe\">\n",
       "  <thead>\n",
       "    <tr style=\"text-align: right;\">\n",
       "      <th></th>\n",
       "      <th>1</th>\n",
       "      <th>6</th>\n",
       "      <th>12:01:03</th>\n",
       "      <th>0,50</th>\n",
       "      <th>WORST</th>\n",
       "    </tr>\n",
       "  </thead>\n",
       "  <tbody>\n",
       "    <tr>\n",
       "      <th>0</th>\n",
       "      <td>2</td>\n",
       "      <td>16</td>\n",
       "      <td>07:42:51</td>\n",
       "      <td>0,32</td>\n",
       "      <td>BEST</td>\n",
       "    </tr>\n",
       "    <tr>\n",
       "      <th>1</th>\n",
       "      <td>3</td>\n",
       "      <td>19</td>\n",
       "      <td>12:01:29</td>\n",
       "      <td>0,50</td>\n",
       "      <td>NaN</td>\n",
       "    </tr>\n",
       "    <tr>\n",
       "      <th>2</th>\n",
       "      <td>4</td>\n",
       "      <td>13</td>\n",
       "      <td>03:22:50</td>\n",
       "      <td>0,14</td>\n",
       "      <td>INTERMEDIATE</td>\n",
       "    </tr>\n",
       "    <tr>\n",
       "      <th>3</th>\n",
       "      <td>5</td>\n",
       "      <td>8</td>\n",
       "      <td>09:30:03</td>\n",
       "      <td>0,40</td>\n",
       "      <td>WORST</td>\n",
       "    </tr>\n",
       "  </tbody>\n",
       "</table>\n",
       "</div>"
      ],
      "text/plain": [
       "   1   6  12:01:03  0,50          WORST\n",
       "0  2  16  07:42:51  0,32           BEST\n",
       "1  3  19  12:01:29  0,50            NaN\n",
       "2  4  13  03:22:50  0,14   INTERMEDIATE\n",
       "3  5   8  09:30:03  0,40          WORST"
      ]
     },
     "execution_count": 13,
     "metadata": {},
     "output_type": "execute_result"
    }
   ],
   "source": [
    "df = pd.read_csv('../datasets/times2.csv', sep = ';')\n",
    "df #print(df)"
   ]
  },
  {
   "cell_type": "code",
   "execution_count": 14,
   "id": "31ea809f",
   "metadata": {},
   "outputs": [
    {
     "name": "stdout",
     "output_type": "stream",
     "text": [
      "<class 'pandas.core.frame.DataFrame'>\n",
      "RangeIndex: 4 entries, 0 to 3\n",
      "Data columns (total 5 columns):\n",
      " #   Column    Non-Null Count  Dtype \n",
      "---  ------    --------------  ----- \n",
      " 0   1         4 non-null      int64 \n",
      " 1   6         4 non-null      int64 \n",
      " 2   12:01:03  4 non-null      object\n",
      " 3   0,50      4 non-null      object\n",
      " 4   WORST     3 non-null      object\n",
      "dtypes: int64(2), object(3)\n",
      "memory usage: 288.0+ bytes\n"
     ]
    }
   ],
   "source": [
    "df.info()"
   ]
  },
  {
   "cell_type": "code",
   "execution_count": 5,
   "id": "37546a56",
   "metadata": {},
   "outputs": [
    {
     "name": "stdout",
     "output_type": "stream",
     "text": [
      "   ID  SCORE         CLASS\n",
      "0   1      6         WORST\n",
      "1   2     16          BEST\n",
      "2   3     19          BEST\n",
      "3   4     13  INTERMEDIATE\n",
      "4   5      8         WORST\n",
      "5   6     15          BEST\n"
     ]
    }
   ],
   "source": [
    "df = pd.read_csv('../datasets/times.csv', usecols=['ID','SCORE','CLASS'])\n",
    "df #print(df)"
   ]
  },
  {
   "cell_type": "code",
   "execution_count": 6,
   "id": "65cee5db",
   "metadata": {},
   "outputs": [
    {
     "name": "stdout",
     "output_type": "stream",
     "text": [
      "   Column 1  Column 3\n",
      "0      15.5     65.90\n",
      "1      18.6     45.20\n",
      "2      21.4     21.63\n",
      "3      23.7     36.12\n"
     ]
    }
   ],
   "source": [
    "df = pd.read_csv('../datasets/question3.csv', usecols=[1,3])\n",
    "df #print(df)"
   ]
  },
  {
   "cell_type": "code",
   "execution_count": 7,
   "id": "848027d2",
   "metadata": {},
   "outputs": [
    {
     "name": "stdout",
     "output_type": "stream",
     "text": [
      "    name    value1    value2    value3\n",
      "0    NaN  Column 1  Column 2  Column 3\n",
      "1  Row 1      15.5     12.14      65.9\n",
      "2  Row 2      18.6     23.56      45.2\n",
      "3  Row 3      21.4     47.02     21.63\n",
      "4  Row 4      23.7     63.56     36.12\n"
     ]
    }
   ],
   "source": [
    "df = pd.read_csv('../datasets/question3.csv', names=['name', 'value1', 'value2', 'value3'])\n",
    "df #print(df)"
   ]
  },
  {
   "cell_type": "code",
   "execution_count": 8,
   "id": "f0e95a85",
   "metadata": {},
   "outputs": [
    {
     "name": "stdout",
     "output_type": "stream",
     "text": [
      "    name  value1  value2  value3\n",
      "0  Row 1    15.5   12.14   65.90\n",
      "1  Row 2    18.6   23.56   45.20\n",
      "2  Row 3    21.4   47.02   21.63\n",
      "3  Row 4    23.7   63.56   36.12\n"
     ]
    }
   ],
   "source": [
    "df = pd.read_csv('../datasets/question3.csv', names=['name', 'value1', 'value2', 'value3'], skiprows=1)\n",
    "df #print(df)"
   ]
  },
  {
   "cell_type": "code",
   "execution_count": 9,
   "id": "9a783048",
   "metadata": {
    "scrolled": true
   },
   "outputs": [
    {
     "name": "stdout",
     "output_type": "stream",
     "text": [
      "Total tables: 2\n",
      "                        Company           Contact  Country\n",
      "0           Alfreds Futterkiste      Maria Anders  Germany\n",
      "1    Centro comercial Moctezuma   Francisco Chang   Mexico\n",
      "2                  Ernst Handel     Roland Mendel  Austria\n",
      "3                Island Trading     Helen Bennett       UK\n",
      "4  Laughing Bacchus Winecellars   Yoshi Tannamuri   Canada\n",
      "5  Magazzini Alimentari Riuniti  Giovanni Rovelli    Italy\n",
      "             HEAD1            HEAD2\n",
      "0  Row 1, Column 1  Row 1, Column 2\n",
      "1  Row 2, Column 1  Row 2, Column 2\n"
     ]
    }
   ],
   "source": [
    "df = pd.read_html('../datasets/page.html')\n",
    "print('Total tables:', len(df))\n",
    "print(df[0])\n",
    "print(df[1])"
   ]
  },
  {
   "cell_type": "code",
   "execution_count": 10,
   "id": "82c4b734",
   "metadata": {},
   "outputs": [
    {
     "name": "stdout",
     "output_type": "stream",
     "text": [
      "<class 'pandas.core.frame.DataFrame'>\n",
      "RangeIndex: 6 entries, 0 to 5\n",
      "Data columns (total 3 columns):\n",
      " #   Column   Non-Null Count  Dtype \n",
      "---  ------   --------------  ----- \n",
      " 0   Company  6 non-null      object\n",
      " 1   Contact  6 non-null      object\n",
      " 2   Country  6 non-null      object\n",
      "dtypes: object(3)\n",
      "memory usage: 272.0+ bytes\n"
     ]
    }
   ],
   "source": [
    "table1 = df[0]\n",
    "table1.info()"
   ]
  },
  {
   "cell_type": "code",
   "execution_count": 11,
   "id": "ddef1ff9",
   "metadata": {},
   "outputs": [
    {
     "name": "stdout",
     "output_type": "stream",
     "text": [
      "0             Alfreds Futterkiste\n",
      "1      Centro comercial Moctezuma\n",
      "2                    Ernst Handel\n",
      "3                  Island Trading\n",
      "4    Laughing Bacchus Winecellars\n",
      "5    Magazzini Alimentari Riuniti\n",
      "Name: Company, dtype: object\n"
     ]
    }
   ],
   "source": [
    "print(table1['Company'])"
   ]
  },
  {
   "cell_type": "code",
   "execution_count": 12,
   "id": "8d2fbe91",
   "metadata": {},
   "outputs": [
    {
     "name": "stdout",
     "output_type": "stream",
     "text": [
      "<class 'pandas.core.frame.DataFrame'>\n",
      "RangeIndex: 41 entries, 0 to 40\n",
      "Data columns (total 9 columns):\n",
      " #   Column                                            Non-Null Count  Dtype  \n",
      "---  ------                                            --------------  -----  \n",
      " 0   Year                                              41 non-null     object \n",
      " 1   Nominal GDP(billions USD)                         41 non-null     float64\n",
      " 2   GDP per capita(USD)                               41 non-null     int64  \n",
      " 3   GDP growth(real)                                  41 non-null     object \n",
      " 4   Inflation rate(in %)                              41 non-null     object \n",
      " 5   Unemployment(in %)                                41 non-null     object \n",
      " 6   Budget balance(in % of GDP)[116]                  41 non-null     object \n",
      " 7   Government debt held by public(in % of GDP)[117]  41 non-null     object \n",
      " 8   Current accountbalance(in % of GDP)               40 non-null     object \n",
      "dtypes: float64(1), int64(1), object(7)\n",
      "memory usage: 3.0+ KB\n"
     ]
    }
   ],
   "source": [
    "df = pd.read_html('https://en.wikipedia.org/wiki/Economy_of_the_United_States', match='Nominal GDP')\n",
    "df_GDP = df[0]\n",
    "df_GDP.info()"
   ]
  },
  {
   "cell_type": "code",
   "execution_count": 14,
   "id": "d95cd226",
   "metadata": {},
   "outputs": [
    {
     "name": "stdout",
     "output_type": "stream",
     "text": [
      "                          name  price  \\\n",
      "0              Belgian Waffles  $5.95   \n",
      "1   Strawberry Belgian Waffles  $7.95   \n",
      "2  Berry-Berry Belgian Waffles  $8.95   \n",
      "3                 French Toast  $4.50   \n",
      "4          Homestyle Breakfast  $6.95   \n",
      "\n",
      "                                         description  calories  \n",
      "0  Two of our famous Belgian Waffles with plenty ...       650  \n",
      "1  Light Belgian waffles covered with strawberrie...       900  \n",
      "2  Belgian waffles covered with assorted fresh be...       900  \n",
      "3  Thick slices made from our homemade sourdough ...       600  \n",
      "4  Two eggs, bacon or sausage, toast, and our eve...       950  \n"
     ]
    }
   ],
   "source": [
    "df = pd.read_xml('../datasets/dataXML.xml')\n",
    "print(df)"
   ]
  },
  {
   "cell_type": "code",
   "execution_count": 15,
   "id": "e8d3b966",
   "metadata": {},
   "outputs": [
    {
     "name": "stdout",
     "output_type": "stream",
     "text": [
      "0                Belgian Waffles\n",
      "1     Strawberry Belgian Waffles\n",
      "2    Berry-Berry Belgian Waffles\n",
      "3                   French Toast\n",
      "4            Homestyle Breakfast\n",
      "Name: name, dtype: object\n"
     ]
    }
   ],
   "source": [
    "print(df['name'])"
   ]
  },
  {
   "cell_type": "code",
   "execution_count": null,
   "id": "22d819c6",
   "metadata": {},
   "outputs": [],
   "source": []
  }
 ],
 "metadata": {
  "kernelspec": {
   "display_name": "Python 3 (ipykernel)",
   "language": "python",
   "name": "python3"
  },
  "language_info": {
   "codemirror_mode": {
    "name": "ipython",
    "version": 3
   },
   "file_extension": ".py",
   "mimetype": "text/x-python",
   "name": "python",
   "nbconvert_exporter": "python",
   "pygments_lexer": "ipython3",
   "version": "3.8.11"
  }
 },
 "nbformat": 4,
 "nbformat_minor": 5
}
