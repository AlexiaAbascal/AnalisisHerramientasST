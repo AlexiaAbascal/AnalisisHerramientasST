{
 "cells": [
  {
   "cell_type": "code",
   "execution_count": 1,
   "id": "49770092",
   "metadata": {},
   "outputs": [],
   "source": [
    "import pandas as pd\n",
    "import random"
   ]
  },
  {
   "cell_type": "code",
   "execution_count": 2,
   "id": "f98b4718",
   "metadata": {},
   "outputs": [
    {
     "data": {
      "text/html": [
       "<div>\n",
       "<style scoped>\n",
       "    .dataframe tbody tr th:only-of-type {\n",
       "        vertical-align: middle;\n",
       "    }\n",
       "\n",
       "    .dataframe tbody tr th {\n",
       "        vertical-align: top;\n",
       "    }\n",
       "\n",
       "    .dataframe thead th {\n",
       "        text-align: right;\n",
       "    }\n",
       "</style>\n",
       "<table border=\"1\" class=\"dataframe\">\n",
       "  <thead>\n",
       "    <tr style=\"text-align: right;\">\n",
       "      <th></th>\n",
       "      <th>ingresos</th>\n",
       "      <th>gastos_comunes</th>\n",
       "      <th>pago_coche</th>\n",
       "      <th>gastos_otros</th>\n",
       "      <th>ahorros</th>\n",
       "      <th>vivienda</th>\n",
       "      <th>estado_civil</th>\n",
       "      <th>hijos</th>\n",
       "      <th>trabajo</th>\n",
       "      <th>comprar</th>\n",
       "    </tr>\n",
       "  </thead>\n",
       "  <tbody>\n",
       "    <tr>\n",
       "      <th>0</th>\n",
       "      <td>6000</td>\n",
       "      <td>1000</td>\n",
       "      <td>0</td>\n",
       "      <td>600</td>\n",
       "      <td>50000</td>\n",
       "      <td>400000</td>\n",
       "      <td>0</td>\n",
       "      <td>2</td>\n",
       "      <td>2</td>\n",
       "      <td>1</td>\n",
       "    </tr>\n",
       "    <tr>\n",
       "      <th>1</th>\n",
       "      <td>6745</td>\n",
       "      <td>944</td>\n",
       "      <td>123</td>\n",
       "      <td>429</td>\n",
       "      <td>43240</td>\n",
       "      <td>636897</td>\n",
       "      <td>1</td>\n",
       "      <td>3</td>\n",
       "      <td>6</td>\n",
       "      <td>0</td>\n",
       "    </tr>\n",
       "    <tr>\n",
       "      <th>2</th>\n",
       "      <td>6455</td>\n",
       "      <td>1033</td>\n",
       "      <td>98</td>\n",
       "      <td>795</td>\n",
       "      <td>57463</td>\n",
       "      <td>321779</td>\n",
       "      <td>2</td>\n",
       "      <td>1</td>\n",
       "      <td>8</td>\n",
       "      <td>1</td>\n",
       "    </tr>\n",
       "    <tr>\n",
       "      <th>3</th>\n",
       "      <td>7098</td>\n",
       "      <td>1278</td>\n",
       "      <td>15</td>\n",
       "      <td>254</td>\n",
       "      <td>54506</td>\n",
       "      <td>660933</td>\n",
       "      <td>0</td>\n",
       "      <td>0</td>\n",
       "      <td>3</td>\n",
       "      <td>0</td>\n",
       "    </tr>\n",
       "    <tr>\n",
       "      <th>4</th>\n",
       "      <td>6167</td>\n",
       "      <td>863</td>\n",
       "      <td>223</td>\n",
       "      <td>520</td>\n",
       "      <td>41512</td>\n",
       "      <td>348932</td>\n",
       "      <td>0</td>\n",
       "      <td>0</td>\n",
       "      <td>3</td>\n",
       "      <td>1</td>\n",
       "    </tr>\n",
       "    <tr>\n",
       "      <th>...</th>\n",
       "      <td>...</td>\n",
       "      <td>...</td>\n",
       "      <td>...</td>\n",
       "      <td>...</td>\n",
       "      <td>...</td>\n",
       "      <td>...</td>\n",
       "      <td>...</td>\n",
       "      <td>...</td>\n",
       "      <td>...</td>\n",
       "      <td>...</td>\n",
       "    </tr>\n",
       "    <tr>\n",
       "      <th>197</th>\n",
       "      <td>3831</td>\n",
       "      <td>690</td>\n",
       "      <td>352</td>\n",
       "      <td>488</td>\n",
       "      <td>10723</td>\n",
       "      <td>363120</td>\n",
       "      <td>0</td>\n",
       "      <td>0</td>\n",
       "      <td>2</td>\n",
       "      <td>0</td>\n",
       "    </tr>\n",
       "    <tr>\n",
       "      <th>198</th>\n",
       "      <td>3961</td>\n",
       "      <td>1030</td>\n",
       "      <td>270</td>\n",
       "      <td>475</td>\n",
       "      <td>21880</td>\n",
       "      <td>280421</td>\n",
       "      <td>2</td>\n",
       "      <td>3</td>\n",
       "      <td>8</td>\n",
       "      <td>0</td>\n",
       "    </tr>\n",
       "    <tr>\n",
       "      <th>199</th>\n",
       "      <td>3184</td>\n",
       "      <td>955</td>\n",
       "      <td>276</td>\n",
       "      <td>684</td>\n",
       "      <td>35565</td>\n",
       "      <td>388025</td>\n",
       "      <td>1</td>\n",
       "      <td>3</td>\n",
       "      <td>8</td>\n",
       "      <td>0</td>\n",
       "    </tr>\n",
       "    <tr>\n",
       "      <th>200</th>\n",
       "      <td>3334</td>\n",
       "      <td>867</td>\n",
       "      <td>369</td>\n",
       "      <td>652</td>\n",
       "      <td>19985</td>\n",
       "      <td>376892</td>\n",
       "      <td>1</td>\n",
       "      <td>2</td>\n",
       "      <td>5</td>\n",
       "      <td>0</td>\n",
       "    </tr>\n",
       "    <tr>\n",
       "      <th>201</th>\n",
       "      <td>3988</td>\n",
       "      <td>1157</td>\n",
       "      <td>105</td>\n",
       "      <td>382</td>\n",
       "      <td>11980</td>\n",
       "      <td>257580</td>\n",
       "      <td>0</td>\n",
       "      <td>0</td>\n",
       "      <td>4</td>\n",
       "      <td>0</td>\n",
       "    </tr>\n",
       "  </tbody>\n",
       "</table>\n",
       "<p>202 rows × 10 columns</p>\n",
       "</div>"
      ],
      "text/plain": [
       "     ingresos  gastos_comunes  pago_coche  gastos_otros  ahorros  vivienda  \\\n",
       "0        6000            1000           0           600    50000    400000   \n",
       "1        6745             944         123           429    43240    636897   \n",
       "2        6455            1033          98           795    57463    321779   \n",
       "3        7098            1278          15           254    54506    660933   \n",
       "4        6167             863         223           520    41512    348932   \n",
       "..        ...             ...         ...           ...      ...       ...   \n",
       "197      3831             690         352           488    10723    363120   \n",
       "198      3961            1030         270           475    21880    280421   \n",
       "199      3184             955         276           684    35565    388025   \n",
       "200      3334             867         369           652    19985    376892   \n",
       "201      3988            1157         105           382    11980    257580   \n",
       "\n",
       "     estado_civil  hijos  trabajo  comprar  \n",
       "0               0      2        2        1  \n",
       "1               1      3        6        0  \n",
       "2               2      1        8        1  \n",
       "3               0      0        3        0  \n",
       "4               0      0        3        1  \n",
       "..            ...    ...      ...      ...  \n",
       "197             0      0        2        0  \n",
       "198             2      3        8        0  \n",
       "199             1      3        8        0  \n",
       "200             1      2        5        0  \n",
       "201             0      0        4        0  \n",
       "\n",
       "[202 rows x 10 columns]"
      ]
     },
     "execution_count": 2,
     "metadata": {},
     "output_type": "execute_result"
    }
   ],
   "source": [
    "df = pd.read_csv('../datasets/comprar_alquilar.csv')\n",
    "df"
   ]
  },
  {
   "cell_type": "markdown",
   "id": "4156354e",
   "metadata": {},
   "source": [
    "# 1. Revisando si existen valores faltantes"
   ]
  },
  {
   "cell_type": "code",
   "execution_count": 3,
   "id": "449742b0",
   "metadata": {},
   "outputs": [
    {
     "data": {
      "text/plain": [
       "202"
      ]
     },
     "execution_count": 3,
     "metadata": {},
     "output_type": "execute_result"
    }
   ],
   "source": [
    "len(df)"
   ]
  },
  {
   "cell_type": "code",
   "execution_count": 4,
   "id": "0240241e",
   "metadata": {
    "scrolled": true
   },
   "outputs": [
    {
     "name": "stdout",
     "output_type": "stream",
     "text": [
      "<class 'pandas.core.frame.DataFrame'>\n",
      "RangeIndex: 202 entries, 0 to 201\n",
      "Data columns (total 10 columns):\n",
      " #   Column          Non-Null Count  Dtype\n",
      "---  ------          --------------  -----\n",
      " 0   ingresos        202 non-null    int64\n",
      " 1   gastos_comunes  202 non-null    int64\n",
      " 2   pago_coche      202 non-null    int64\n",
      " 3   gastos_otros    202 non-null    int64\n",
      " 4   ahorros         202 non-null    int64\n",
      " 5   vivienda        202 non-null    int64\n",
      " 6   estado_civil    202 non-null    int64\n",
      " 7   hijos           202 non-null    int64\n",
      " 8   trabajo         202 non-null    int64\n",
      " 9   comprar         202 non-null    int64\n",
      "dtypes: int64(10)\n",
      "memory usage: 15.9 KB\n"
     ]
    }
   ],
   "source": [
    "df.info()"
   ]
  },
  {
   "cell_type": "code",
   "execution_count": 5,
   "id": "706f70ed",
   "metadata": {},
   "outputs": [
    {
     "data": {
      "text/plain": [
       "ingresos          202\n",
       "gastos_comunes    202\n",
       "pago_coche        202\n",
       "gastos_otros      202\n",
       "ahorros           202\n",
       "vivienda          202\n",
       "estado_civil      202\n",
       "hijos             202\n",
       "trabajo           202\n",
       "comprar           202\n",
       "dtype: int64"
      ]
     },
     "execution_count": 5,
     "metadata": {},
     "output_type": "execute_result"
    }
   ],
   "source": [
    "df.count()"
   ]
  },
  {
   "cell_type": "code",
   "execution_count": 6,
   "id": "29371c75",
   "metadata": {},
   "outputs": [
    {
     "name": "stdout",
     "output_type": "stream",
     "text": [
      "Total:  1001717\n"
     ]
    }
   ],
   "source": [
    "print ('Total: ', df['ingresos'].sum())"
   ]
  },
  {
   "cell_type": "markdown",
   "id": "f2e5fa8d",
   "metadata": {},
   "source": [
    "# 2. Filtros"
   ]
  },
  {
   "cell_type": "code",
   "execution_count": 7,
   "id": "82251f5a",
   "metadata": {},
   "outputs": [
    {
     "data": {
      "text/html": [
       "<div>\n",
       "<style scoped>\n",
       "    .dataframe tbody tr th:only-of-type {\n",
       "        vertical-align: middle;\n",
       "    }\n",
       "\n",
       "    .dataframe tbody tr th {\n",
       "        vertical-align: top;\n",
       "    }\n",
       "\n",
       "    .dataframe thead th {\n",
       "        text-align: right;\n",
       "    }\n",
       "</style>\n",
       "<table border=\"1\" class=\"dataframe\">\n",
       "  <thead>\n",
       "    <tr style=\"text-align: right;\">\n",
       "      <th></th>\n",
       "      <th>ingresos</th>\n",
       "      <th>gastos_comunes</th>\n",
       "      <th>pago_coche</th>\n",
       "      <th>gastos_otros</th>\n",
       "      <th>ahorros</th>\n",
       "      <th>vivienda</th>\n",
       "      <th>estado_civil</th>\n",
       "      <th>hijos</th>\n",
       "      <th>trabajo</th>\n",
       "      <th>comprar</th>\n",
       "    </tr>\n",
       "  </thead>\n",
       "  <tbody>\n",
       "    <tr>\n",
       "      <th>0</th>\n",
       "      <td>6000</td>\n",
       "      <td>1000</td>\n",
       "      <td>0</td>\n",
       "      <td>600</td>\n",
       "      <td>50000</td>\n",
       "      <td>400000</td>\n",
       "      <td>0</td>\n",
       "      <td>2</td>\n",
       "      <td>2</td>\n",
       "      <td>1</td>\n",
       "    </tr>\n",
       "    <tr>\n",
       "      <th>1</th>\n",
       "      <td>6745</td>\n",
       "      <td>944</td>\n",
       "      <td>123</td>\n",
       "      <td>429</td>\n",
       "      <td>43240</td>\n",
       "      <td>636897</td>\n",
       "      <td>1</td>\n",
       "      <td>3</td>\n",
       "      <td>6</td>\n",
       "      <td>0</td>\n",
       "    </tr>\n",
       "    <tr>\n",
       "      <th>2</th>\n",
       "      <td>6455</td>\n",
       "      <td>1033</td>\n",
       "      <td>98</td>\n",
       "      <td>795</td>\n",
       "      <td>57463</td>\n",
       "      <td>321779</td>\n",
       "      <td>2</td>\n",
       "      <td>1</td>\n",
       "      <td>8</td>\n",
       "      <td>1</td>\n",
       "    </tr>\n",
       "    <tr>\n",
       "      <th>3</th>\n",
       "      <td>7098</td>\n",
       "      <td>1278</td>\n",
       "      <td>15</td>\n",
       "      <td>254</td>\n",
       "      <td>54506</td>\n",
       "      <td>660933</td>\n",
       "      <td>0</td>\n",
       "      <td>0</td>\n",
       "      <td>3</td>\n",
       "      <td>0</td>\n",
       "    </tr>\n",
       "    <tr>\n",
       "      <th>4</th>\n",
       "      <td>6167</td>\n",
       "      <td>863</td>\n",
       "      <td>223</td>\n",
       "      <td>520</td>\n",
       "      <td>41512</td>\n",
       "      <td>348932</td>\n",
       "      <td>0</td>\n",
       "      <td>0</td>\n",
       "      <td>3</td>\n",
       "      <td>1</td>\n",
       "    </tr>\n",
       "    <tr>\n",
       "      <th>...</th>\n",
       "      <td>...</td>\n",
       "      <td>...</td>\n",
       "      <td>...</td>\n",
       "      <td>...</td>\n",
       "      <td>...</td>\n",
       "      <td>...</td>\n",
       "      <td>...</td>\n",
       "      <td>...</td>\n",
       "      <td>...</td>\n",
       "      <td>...</td>\n",
       "    </tr>\n",
       "    <tr>\n",
       "      <th>185</th>\n",
       "      <td>4025</td>\n",
       "      <td>1369</td>\n",
       "      <td>32</td>\n",
       "      <td>493</td>\n",
       "      <td>38752</td>\n",
       "      <td>225841</td>\n",
       "      <td>1</td>\n",
       "      <td>4</td>\n",
       "      <td>5</td>\n",
       "      <td>1</td>\n",
       "    </tr>\n",
       "    <tr>\n",
       "      <th>188</th>\n",
       "      <td>4708</td>\n",
       "      <td>1459</td>\n",
       "      <td>84</td>\n",
       "      <td>567</td>\n",
       "      <td>32314</td>\n",
       "      <td>379520</td>\n",
       "      <td>0</td>\n",
       "      <td>0</td>\n",
       "      <td>0</td>\n",
       "      <td>0</td>\n",
       "    </tr>\n",
       "    <tr>\n",
       "      <th>192</th>\n",
       "      <td>4653</td>\n",
       "      <td>1024</td>\n",
       "      <td>447</td>\n",
       "      <td>703</td>\n",
       "      <td>16952</td>\n",
       "      <td>392957</td>\n",
       "      <td>0</td>\n",
       "      <td>0</td>\n",
       "      <td>3</td>\n",
       "      <td>0</td>\n",
       "    </tr>\n",
       "    <tr>\n",
       "      <th>195</th>\n",
       "      <td>4169</td>\n",
       "      <td>1292</td>\n",
       "      <td>48</td>\n",
       "      <td>333</td>\n",
       "      <td>28503</td>\n",
       "      <td>239872</td>\n",
       "      <td>2</td>\n",
       "      <td>1</td>\n",
       "      <td>7</td>\n",
       "      <td>1</td>\n",
       "    </tr>\n",
       "    <tr>\n",
       "      <th>196</th>\n",
       "      <td>4054</td>\n",
       "      <td>1095</td>\n",
       "      <td>371</td>\n",
       "      <td>440</td>\n",
       "      <td>22183</td>\n",
       "      <td>223971</td>\n",
       "      <td>1</td>\n",
       "      <td>0</td>\n",
       "      <td>3</td>\n",
       "      <td>0</td>\n",
       "    </tr>\n",
       "  </tbody>\n",
       "</table>\n",
       "<p>133 rows × 10 columns</p>\n",
       "</div>"
      ],
      "text/plain": [
       "     ingresos  gastos_comunes  pago_coche  gastos_otros  ahorros  vivienda  \\\n",
       "0        6000            1000           0           600    50000    400000   \n",
       "1        6745             944         123           429    43240    636897   \n",
       "2        6455            1033          98           795    57463    321779   \n",
       "3        7098            1278          15           254    54506    660933   \n",
       "4        6167             863         223           520    41512    348932   \n",
       "..        ...             ...         ...           ...      ...       ...   \n",
       "185      4025            1369          32           493    38752    225841   \n",
       "188      4708            1459          84           567    32314    379520   \n",
       "192      4653            1024         447           703    16952    392957   \n",
       "195      4169            1292          48           333    28503    239872   \n",
       "196      4054            1095         371           440    22183    223971   \n",
       "\n",
       "     estado_civil  hijos  trabajo  comprar  \n",
       "0               0      2        2        1  \n",
       "1               1      3        6        0  \n",
       "2               2      1        8        1  \n",
       "3               0      0        3        0  \n",
       "4               0      0        3        1  \n",
       "..            ...    ...      ...      ...  \n",
       "185             1      4        5        1  \n",
       "188             0      0        0        0  \n",
       "192             0      0        3        0  \n",
       "195             2      1        7        1  \n",
       "196             1      0        3        0  \n",
       "\n",
       "[133 rows x 10 columns]"
      ]
     },
     "execution_count": 7,
     "metadata": {},
     "output_type": "execute_result"
    }
   ],
   "source": [
    "mas_de_4 = df[df['ingresos'] > 4000]\n",
    "mas_de_4"
   ]
  },
  {
   "cell_type": "code",
   "execution_count": 12,
   "id": "9fa530fc",
   "metadata": {},
   "outputs": [
    {
     "data": {
      "text/html": [
       "<div>\n",
       "<style scoped>\n",
       "    .dataframe tbody tr th:only-of-type {\n",
       "        vertical-align: middle;\n",
       "    }\n",
       "\n",
       "    .dataframe tbody tr th {\n",
       "        vertical-align: top;\n",
       "    }\n",
       "\n",
       "    .dataframe thead th {\n",
       "        text-align: right;\n",
       "    }\n",
       "</style>\n",
       "<table border=\"1\" class=\"dataframe\">\n",
       "  <thead>\n",
       "    <tr style=\"text-align: right;\">\n",
       "      <th></th>\n",
       "      <th>ingresos</th>\n",
       "      <th>gastos_comunes</th>\n",
       "      <th>pago_coche</th>\n",
       "      <th>gastos_otros</th>\n",
       "      <th>ahorros</th>\n",
       "      <th>vivienda</th>\n",
       "      <th>estado_civil</th>\n",
       "      <th>hijos</th>\n",
       "      <th>trabajo</th>\n",
       "      <th>comprar</th>\n",
       "    </tr>\n",
       "  </thead>\n",
       "  <tbody>\n",
       "    <tr>\n",
       "      <th>2</th>\n",
       "      <td>6455</td>\n",
       "      <td>1033</td>\n",
       "      <td>98</td>\n",
       "      <td>795</td>\n",
       "      <td>57463</td>\n",
       "      <td>321779</td>\n",
       "      <td>2</td>\n",
       "      <td>1</td>\n",
       "      <td>8</td>\n",
       "      <td>1</td>\n",
       "    </tr>\n",
       "    <tr>\n",
       "      <th>4</th>\n",
       "      <td>6167</td>\n",
       "      <td>863</td>\n",
       "      <td>223</td>\n",
       "      <td>520</td>\n",
       "      <td>41512</td>\n",
       "      <td>348932</td>\n",
       "      <td>0</td>\n",
       "      <td>0</td>\n",
       "      <td>3</td>\n",
       "      <td>1</td>\n",
       "    </tr>\n",
       "    <tr>\n",
       "      <th>5</th>\n",
       "      <td>5692</td>\n",
       "      <td>911</td>\n",
       "      <td>11</td>\n",
       "      <td>325</td>\n",
       "      <td>50875</td>\n",
       "      <td>360863</td>\n",
       "      <td>1</td>\n",
       "      <td>4</td>\n",
       "      <td>5</td>\n",
       "      <td>1</td>\n",
       "    </tr>\n",
       "    <tr>\n",
       "      <th>8</th>\n",
       "      <td>6251</td>\n",
       "      <td>1250</td>\n",
       "      <td>209</td>\n",
       "      <td>571</td>\n",
       "      <td>50503</td>\n",
       "      <td>291010</td>\n",
       "      <td>0</td>\n",
       "      <td>0</td>\n",
       "      <td>3</td>\n",
       "      <td>1</td>\n",
       "    </tr>\n",
       "    <tr>\n",
       "      <th>9</th>\n",
       "      <td>6987</td>\n",
       "      <td>1258</td>\n",
       "      <td>252</td>\n",
       "      <td>245</td>\n",
       "      <td>40611</td>\n",
       "      <td>324098</td>\n",
       "      <td>2</td>\n",
       "      <td>1</td>\n",
       "      <td>7</td>\n",
       "      <td>1</td>\n",
       "    </tr>\n",
       "    <tr>\n",
       "      <th>...</th>\n",
       "      <td>...</td>\n",
       "      <td>...</td>\n",
       "      <td>...</td>\n",
       "      <td>...</td>\n",
       "      <td>...</td>\n",
       "      <td>...</td>\n",
       "      <td>...</td>\n",
       "      <td>...</td>\n",
       "      <td>...</td>\n",
       "      <td>...</td>\n",
       "    </tr>\n",
       "    <tr>\n",
       "      <th>185</th>\n",
       "      <td>4025</td>\n",
       "      <td>1369</td>\n",
       "      <td>32</td>\n",
       "      <td>493</td>\n",
       "      <td>38752</td>\n",
       "      <td>225841</td>\n",
       "      <td>1</td>\n",
       "      <td>4</td>\n",
       "      <td>5</td>\n",
       "      <td>1</td>\n",
       "    </tr>\n",
       "    <tr>\n",
       "      <th>188</th>\n",
       "      <td>4708</td>\n",
       "      <td>1459</td>\n",
       "      <td>84</td>\n",
       "      <td>567</td>\n",
       "      <td>32314</td>\n",
       "      <td>379520</td>\n",
       "      <td>0</td>\n",
       "      <td>0</td>\n",
       "      <td>0</td>\n",
       "      <td>0</td>\n",
       "    </tr>\n",
       "    <tr>\n",
       "      <th>192</th>\n",
       "      <td>4653</td>\n",
       "      <td>1024</td>\n",
       "      <td>447</td>\n",
       "      <td>703</td>\n",
       "      <td>16952</td>\n",
       "      <td>392957</td>\n",
       "      <td>0</td>\n",
       "      <td>0</td>\n",
       "      <td>3</td>\n",
       "      <td>0</td>\n",
       "    </tr>\n",
       "    <tr>\n",
       "      <th>195</th>\n",
       "      <td>4169</td>\n",
       "      <td>1292</td>\n",
       "      <td>48</td>\n",
       "      <td>333</td>\n",
       "      <td>28503</td>\n",
       "      <td>239872</td>\n",
       "      <td>2</td>\n",
       "      <td>1</td>\n",
       "      <td>7</td>\n",
       "      <td>1</td>\n",
       "    </tr>\n",
       "    <tr>\n",
       "      <th>196</th>\n",
       "      <td>4054</td>\n",
       "      <td>1095</td>\n",
       "      <td>371</td>\n",
       "      <td>440</td>\n",
       "      <td>22183</td>\n",
       "      <td>223971</td>\n",
       "      <td>1</td>\n",
       "      <td>0</td>\n",
       "      <td>3</td>\n",
       "      <td>0</td>\n",
       "    </tr>\n",
       "  </tbody>\n",
       "</table>\n",
       "<p>72 rows × 10 columns</p>\n",
       "</div>"
      ],
      "text/plain": [
       "     ingresos  gastos_comunes  pago_coche  gastos_otros  ahorros  vivienda  \\\n",
       "2        6455            1033          98           795    57463    321779   \n",
       "4        6167             863         223           520    41512    348932   \n",
       "5        5692             911          11           325    50875    360863   \n",
       "8        6251            1250         209           571    50503    291010   \n",
       "9        6987            1258         252           245    40611    324098   \n",
       "..        ...             ...         ...           ...      ...       ...   \n",
       "185      4025            1369          32           493    38752    225841   \n",
       "188      4708            1459          84           567    32314    379520   \n",
       "192      4653            1024         447           703    16952    392957   \n",
       "195      4169            1292          48           333    28503    239872   \n",
       "196      4054            1095         371           440    22183    223971   \n",
       "\n",
       "     estado_civil  hijos  trabajo  comprar  \n",
       "2               2      1        8        1  \n",
       "4               0      0        3        1  \n",
       "5               1      4        5        1  \n",
       "8               0      0        3        1  \n",
       "9               2      1        7        1  \n",
       "..            ...    ...      ...      ...  \n",
       "185             1      4        5        1  \n",
       "188             0      0        0        0  \n",
       "192             0      0        3        0  \n",
       "195             2      1        7        1  \n",
       "196             1      0        3        0  \n",
       "\n",
       "[72 rows x 10 columns]"
      ]
     },
     "execution_count": 12,
     "metadata": {},
     "output_type": "execute_result"
    }
   ],
   "source": [
    "doble_filtro = df[(df['ingresos'] > 4000)  & (df['vivienda'] < 400000)]\n",
    "doble_filtro"
   ]
  },
  {
   "cell_type": "markdown",
   "id": "b5521833",
   "metadata": {},
   "source": [
    "# 2. Medidas de tendencia central"
   ]
  },
  {
   "cell_type": "markdown",
   "id": "b8b9a8df",
   "metadata": {},
   "source": [
    "A primera vista, resumir los datos puede parecer bastante fácil: calculamos la media de los datos y listo. De hecho, si bien la media es fácil de calcular y conveniente de usar, es posible que no siempre sea la mejor medida para un valor central. Por esta razón, los estadísticos han desarrollado varias estimaciones alternativas a la media."
   ]
  },
  {
   "cell_type": "markdown",
   "id": "ee07a68e",
   "metadata": {},
   "source": [
    "# Media"
   ]
  },
  {
   "cell_type": "markdown",
   "id": "bad7fc37",
   "metadata": {},
   "source": [
    "La estimación más básica de cómo están conformados los datos es el valor medio, media o promedio. La media es la suma de todos los valores dividida por el número de valores. Considera el siguiente conjunto de números: [3, 3, 1, 2]. La media es (3 + 5 + 1 + 2) / 4 = 11 / 4 = 2.75. El símbolo  $\\bar{x}$ representa la media de la muestra de una población (se pronuncia x-bar). La fórmula para calcula la media de una conjunto de N valores ($x_1$,$x_2$,...,$x_N$) es:"
   ]
  },
  {
   "cell_type": "markdown",
   "id": "6b069dfa",
   "metadata": {},
   "source": [
    "Media = $\\bar{x}$ = $\\frac{\\sum_{i=1}^{N}x_i}{N}$"
   ]
  },
  {
   "cell_type": "code",
   "execution_count": 8,
   "id": "882f4e31",
   "metadata": {},
   "outputs": [
    {
     "name": "stdout",
     "output_type": "stream",
     "text": [
      "Media:  4958.995049504951\n"
     ]
    }
   ],
   "source": [
    "print('Media: ', df['ingresos'].mean())"
   ]
  },
  {
   "cell_type": "markdown",
   "id": "3e68df5a",
   "metadata": {},
   "source": [
    "## Media recortada"
   ]
  },
  {
   "cell_type": "markdown",
   "id": "424591fd",
   "metadata": {},
   "source": [
    "Una variación de la media es la media recortada, la cual es calculada después de eliminar los extremos de un conjunto de valores ordenados y luego calculamos el promedio de los valores restantes. De un conjunto de valores ordenados ($x_1$, $x_2$,...,$x_N$) donde $x_1$ es el valor más pequeño y $x_N$ es el valor más grande, la fórmula para calcular la media recortada con los p valores más pequeños y más grandes omitidos es:"
   ]
  },
  {
   "cell_type": "markdown",
   "id": "ecf55625",
   "metadata": {},
   "source": [
    "Media recortada = $\\bar{x}$ = $\\frac{\\sum_{i=p + 1}^{N - p}x_i}{N - 2p}$"
   ]
  },
  {
   "cell_type": "markdown",
   "id": "7a50f878",
   "metadata": {},
   "source": [
    "La media recortada elimina la influencia de valores extremos. Por ejemplo, la puntuación de los concursos internacionales de clavados se obtiene eliminando la puntuación máxima y mínima de los jueces y calculando el promedio de las puntuaciones restantes. Esto imposibilita que un solo juez manipule la puntuación, quizás para favorecer al competidor de su país. Las medias recortadas se utilizan ampliamente y, en muchos casos, es preferible utilizarlas en lugar de la media ordinaria."
   ]
  },
  {
   "cell_type": "code",
   "execution_count": 9,
   "id": "82220abe",
   "metadata": {},
   "outputs": [
    {
     "data": {
      "text/plain": [
       "190    2008\n",
       "180    2022\n",
       "160    2024\n",
       "179    2028\n",
       "173    2028\n",
       "       ... \n",
       "142    7777\n",
       "22     7831\n",
       "138    7877\n",
       "28     7939\n",
       "37     7984\n",
       "Name: ingresos, Length: 202, dtype: int64"
      ]
     },
     "execution_count": 9,
     "metadata": {},
     "output_type": "execute_result"
    }
   ],
   "source": [
    "sorted = df['ingresos'].sort_values()\n",
    "sorted"
   ]
  },
  {
   "cell_type": "code",
   "execution_count": 10,
   "id": "4fbceaf7",
   "metadata": {},
   "outputs": [
    {
     "data": {
      "text/plain": [
       "0      2008\n",
       "1      2022\n",
       "2      2024\n",
       "3      2028\n",
       "4      2028\n",
       "       ... \n",
       "197    7777\n",
       "198    7831\n",
       "199    7877\n",
       "200    7939\n",
       "201    7984\n",
       "Name: ingresos, Length: 202, dtype: int64"
      ]
     },
     "execution_count": 10,
     "metadata": {},
     "output_type": "execute_result"
    }
   ],
   "source": [
    "sorted = sorted.reset_index(drop = True)\n",
    "sorted"
   ]
  },
  {
   "cell_type": "code",
   "execution_count": 11,
   "id": "9f474dca",
   "metadata": {},
   "outputs": [
    {
     "name": "stdout",
     "output_type": "stream",
     "text": [
      "Media recortada:  4959.369791666667\n"
     ]
    }
   ],
   "source": [
    "p = 5\n",
    "acum = 0\n",
    "for i in range(p, len(sorted) - p):\n",
    "    acum += sorted[i]\n",
    "croppedMean =  acum / (len(sorted) - (2 * p))\n",
    "print('Media recortada: ', croppedMean)"
   ]
  },
  {
   "cell_type": "code",
   "execution_count": 12,
   "id": "5bc6f087",
   "metadata": {},
   "outputs": [
    {
     "name": "stdout",
     "output_type": "stream",
     "text": [
      "Media recortada:  4959.369791666667\n"
     ]
    }
   ],
   "source": [
    "p = 5\n",
    "acum = sum(sorted.values.flatten()[p:len(df['ingresos'])-p])\n",
    "croppedMean = acum / (len(sorted) - (2 * p))\n",
    "print('Media recortada: ', croppedMean)"
   ]
  },
  {
   "cell_type": "markdown",
   "id": "23e8d49c",
   "metadata": {},
   "source": [
    "## Media ponderada"
   ]
  },
  {
   "cell_type": "markdown",
   "id": "1c895fa3",
   "metadata": {},
   "source": [
    "Otro tipo de media es la media ponderada, que se calcula multiplicando cada valor $x_i$ por un peso $w_i$ y dividiendo la suma por la suma de los pesos. La fórmula para una media ponderada es:"
   ]
  },
  {
   "cell_type": "markdown",
   "id": "d5f5cd89",
   "metadata": {},
   "source": [
    "Media ponderada = $\\bar{x_{w}}$ = $\\frac{\\sum_{i=1}^{N}w_{i}x_{i}}{\\sum_{i=1}^{N}w_{i}}$"
   ]
  },
  {
   "cell_type": "markdown",
   "id": "693f9859",
   "metadata": {},
   "source": [
    "Hay dos razones principales para usar una media ponderada:\n",
    "* Algunos valores son intrínsecamente más variables que otro, y las observaciones muy variables reciben un peso menor. Por ejemplo, si tomamos el promedio de varios sensores y uno de los sensores es menos preciso, entonces podríamos reducir el peso de ese sensor.\n",
    "*  Los datos recopiladores no representan igualmente a los diferentes grupos que nos interesa medir. Por ejemplo, debido a la forma en que se realizó un experimente en línea, es posible que no tengamos un conjunto de datos que refleje con precisión todos los grupos de usuarios. Para corregir eso, podemos dar un mayor peso a los valores de los grupos que estaban subrepresentados."
   ]
  },
  {
   "cell_type": "code",
   "execution_count": 14,
   "id": "587dbd08",
   "metadata": {},
   "outputs": [
    {
     "name": "stdout",
     "output_type": "stream",
     "text": [
      "[0.14145356469060733, 0.0703677046839748, 0.33630670589832934, 0.32007684261628155, 0.3174934948861946, 0.9286400903658422, 0.8566205222850598, 0.8084859618913869, 0.6314429126515322, 0.40600766076074835, 0.3196492132705355, 0.3654606166291351, 0.9107478917479337, 0.736323161824165, 0.4224299979824596, 0.7070147629985435, 0.07497789134743249, 0.7242852064283337, 0.5634484335157469, 0.9582276587246938, 0.5604107663122008, 0.6122369131725888, 0.7903087520388858, 0.6592222029763802, 0.575242988631262, 0.47387326385256767, 0.9857404846546105, 0.7388404555699241, 0.21464832925838295, 0.01872949973026472, 0.06959559432395035, 0.9822261885423398, 0.26206184310057046, 0.3068091455323134, 0.9417228996170914, 0.00965286390652953, 0.25945861988787433, 0.007312164464811977, 0.546589931909678, 0.7813549703669677, 0.6233493201072003, 0.7536078543038748, 0.5122329556616113, 0.9831036740757894, 0.28334171576460987, 0.5253825866608474, 0.9266877344851169, 0.004407404946963012, 0.7806210549661199, 0.6614091139586097, 0.6387789659133446, 0.9102254585150773, 0.41386616144107313, 0.6200491227672715, 0.5620833266076085, 0.727574475801145, 0.608304520470193, 0.5407668190857654, 0.5231300883513722, 0.8964390379537672, 0.2576305896320066, 0.5318844369947073, 0.46731337635997716, 0.2830439895799126, 0.8418364073438424, 0.7378209244822441, 0.33895282275284155, 0.06982218257931405, 0.6079057651906558, 0.7548407860846198, 0.9125639117808032, 0.40214578287102287, 0.0031358918870624253, 0.7799220787660169, 0.3702751687659407, 0.25849190510053976, 0.20628123075560334, 0.37510082142145873, 0.0057608826201420715, 0.978292723761517, 0.6202765981053717, 0.1585500352923962, 0.10241165814423436, 0.6936155596178952, 0.7476526412512516, 0.5830435066461271, 0.44935311381189746, 0.012379271284942206, 0.1887915153063051, 0.434776632358693, 0.8524943261156432, 0.5606007801422409, 0.4204261725570283, 0.25966721599015097, 0.1226724182568194, 0.6594165897792155, 0.5321126787611378, 0.8813552784520742, 0.5339410328562898, 0.4062620633416827, 0.8964939869801383, 0.05457731231670204, 0.7497697824193239, 0.42514116841791094, 0.42399596613391055, 0.46508144580531363, 0.4510441898583566, 0.8626598733666705, 0.9325141946705335, 0.33510954566969453, 0.3190882283397476, 0.7215467275408105, 0.810316242299793, 0.8615145002092505, 0.5410887975602948, 0.5312040797391698, 0.5883329879318933, 0.6976554094799587, 0.8968390410101875, 0.32177867698955886, 0.8905404227281031, 0.5641839346079663, 0.4758869238277187, 0.11542308358455955, 0.5305259263067357, 0.48035177057800693, 0.3483058078328287, 0.07556910486228408, 0.6814346974824651, 0.7700806334032858, 0.7014296860438465, 0.9918141945237595, 0.21530295402206467, 0.45396903125404, 0.5256607179130302, 0.1456985130341728, 0.5888960017058329, 0.47280078235660394, 0.9770973369195781, 0.052662659095940256, 0.02271475993046468, 0.9289716142959276, 0.5731482629540448, 0.03446303722608801, 0.275578144782074, 0.1784353996467244, 0.3477452529156235, 0.4685348664926561, 0.5150660110936596, 0.4947733088088344, 0.781163850582497, 0.5972697600969814, 0.23605141441093092, 0.6895241758694927, 0.9874521230077218, 0.5033626297617518, 0.8938040679032403, 0.37643940765200046, 0.866896642366134, 0.17369254189421357, 0.07170445570971773, 0.2126281181743256, 0.8957658525281709, 0.22667320855716588, 0.7425847974085812, 0.6316709142950372, 0.76914608483804, 0.5448118311036512, 0.15313668723562834, 0.7824022725535594, 0.5374500649128136, 0.9585671731278981, 0.6762689759530451, 0.5057071405584871, 0.8792624604385533, 0.8479176546451394, 0.08049104059217405, 0.8115136008234567, 0.3409643105223823, 0.5997090367650565, 0.0756637646762166, 0.47332057845975584, 0.1575458193974365, 0.1988977115668964, 0.8668710226246266, 0.7970837908245555, 0.2689998700128854, 0.5707831974004988, 0.30230261678817927, 0.4919678758830842, 0.8378013995858014, 0.33815277938468247, 0.2853332466262367, 0.40488756274291127, 0.43862572422645163, 0.9024641978593262, 0.09585296716465752, 0.37694479852424634, 0.5926587135623959, 0.6147420896646623, 0.8288227976262631, 0.8913376467266796]\n"
     ]
    }
   ],
   "source": [
    "weights = [random.random() for i in range(len(df['ingresos']))]\n",
    "print(weights)"
   ]
  },
  {
   "cell_type": "code",
   "execution_count": 15,
   "id": "7201e11a",
   "metadata": {},
   "outputs": [
    {
     "name": "stdout",
     "output_type": "stream",
     "text": [
      "Media ponderada:  4954.362092009899\n"
     ]
    }
   ],
   "source": [
    "accWeightedValues = df['ingresos'].values.flatten().dot(weights)\n",
    "weightedMean = accWeightedValues / sum(weights)\n",
    "print('Media ponderada: ', weightedMean)"
   ]
  },
  {
   "cell_type": "markdown",
   "id": "cff04e4c",
   "metadata": {},
   "source": [
    "## Moda"
   ]
  },
  {
   "cell_type": "markdown",
   "id": "dae7f52f",
   "metadata": {},
   "source": [
    "La moda es el valor con mayor frecuencia en la distribución de datos. Si tomamos como ejemplo una muestra compuesta de los siguientes 5 números: 3, 8, 2, 8, 1; el valor modal es 8, ya que se es el que se repite la mayor cantidad de veces. La moda sirve para definir lo más común, lo que más se usa o lo que es más frecuente, en términos matemáticos, el valor de mayor frecuencia absoluta."
   ]
  },
  {
   "cell_type": "code",
   "execution_count": 15,
   "id": "2b87cd91",
   "metadata": {},
   "outputs": [
    {
     "name": "stdout",
     "output_type": "stream",
     "text": [
      "Moda:  2028\n"
     ]
    }
   ],
   "source": [
    "moda = pd.Series(df['ingresos'].values.flatten()).mode()[0]\n",
    "print('Moda: ', moda)"
   ]
  },
  {
   "cell_type": "markdown",
   "id": "02e1ca33",
   "metadata": {},
   "source": [
    "## Mediana"
   ]
  },
  {
   "cell_type": "markdown",
   "id": "1fce565e",
   "metadata": {},
   "source": [
    "La mediana es el número del medio de una lista de datos ordenada. Si hay un número par de valores de datos, el valor medio es uno que no está realmente en el conjunto de datos, sino que es el promedio de los dos valores que dividen los datos ordenados en dos mitades. En comparación con la media, que usa todas las observaciones, la mediana solo depende de los valores en el centro de los datos ordenados. Si bien, esto puede parecer una desventaja, dado que la media es mucho más sensible a los datos, hay muchos casos en los que la mediana es una mejor métrica para la ubicación. Supongamos que queremos analizar los ingresos familiares típicos en los vecindarios de una zona. Al comparar un vecindario de ingresos altos con un vecindario de ingresos bajos, usar la media producirá resultados muy diferentes. Si usamos la mediana, no importa cuán rico sean los que vivan en un vecindario; la posición de la observación intermedia seguirá siendo la misma."
   ]
  },
  {
   "cell_type": "code",
   "execution_count": 16,
   "id": "f8518080",
   "metadata": {},
   "outputs": [
    {
     "name": "stdout",
     "output_type": "stream",
     "text": [
      "Mediana: 4947.5\n"
     ]
    }
   ],
   "source": [
    "print('Mediana:', df['ingresos'].median())"
   ]
  },
  {
   "cell_type": "markdown",
   "id": "0cfb9369",
   "metadata": {},
   "source": [
    "Por las mismas razones por las que usamos una media ponderada, también es posible calcular una mediana ponderada. Al igual que con la mediana, primero ordenamos los datos, aunque cada valor de datos tiene un peso asociado. En lugar de tomar el número del medio, la mediana pondera es el valor tal que la suma de los pesos es igual para ambas mitades de la lista ordenada. Como la mediana, la mediana ponderada es robusta a los valores atípicos (outliners)."
   ]
  },
  {
   "cell_type": "markdown",
   "id": "743efbe9",
   "metadata": {},
   "source": [
    "### Valores atípicos"
   ]
  },
  {
   "cell_type": "markdown",
   "id": "73f80004",
   "metadata": {},
   "source": [
    "La mediana no es la única estimación sólida de la ubicación. De hecho, una media recortada se usa ampliamente para evitar la influencia de valores atípicos. Por ejemplo, recortar el 10% inferior y superior (una estrategia muy usada) de los datos proporcionará protección contra valores atípicos en todos los conjuntos de datos, excepto en los más pequeños. Se puede pensar en la media recortada como un compromiso entre la media y la mediana: es robusta a los valores extremos en los datos, pero utiliza más datos para calcular la estimación de la ubicación."
   ]
  },
  {
   "cell_type": "markdown",
   "id": "9d52fadd",
   "metadata": {},
   "source": [
    "# Desviación estándar"
   ]
  },
  {
   "cell_type": "markdown",
   "id": "f25473f7",
   "metadata": {},
   "source": [
    "La ubicación es solo una dimensión para resumir una característica. Una segunda dimensión, la variabilidad, también conocida como dispersión, mide que tan agrupados o dispersos están los datos. La variabilidad es un concepto muy importante a tener en cuenta: hay que medirla, reducirla, distinguir en la variabilidad aleatoria y la real, identificar las diversas fuentes de variabilidad real y tomar decisiones sobre ella. Asi como existen diferentes formas de medir la ubicación (media, mediana, etc.) también existen diferente formas de medir la variabilidad.\n",
    "\n",
    "Las estimaciones de variación más utilizadas se basan en las diferencia entre la media (una estimación de ubicación) y los datos observados. Para un conjunto de datos, [1, 4, 4], la media es 3 y la mediana es 4. Las desviaciones de la media son las diferencias (1 - 3 = -2, 4 - 3 = 1, 4 - 3 = 1). Estas desviaciones nos dicen qué tan dispersos están los datos alrededor del valor central.\n",
    "\n",
    "Las estimaciones de variabilidad más conocidas son la varianza y la desviación estándar, que se basan en desviaciones cuadradas. La varianza es un promedio de las desviaciones cuadradas y la desviación estándar es la raíz cuadrada de la varianza."
   ]
  },
  {
   "cell_type": "markdown",
   "id": "3eec0524",
   "metadata": {},
   "source": [
    "Varianza = $s^{2}$ = $\\frac{\\sum_{i=1}^{N}(x_{i} - \\bar{x})^{2} }{N - 1}$"
   ]
  },
  {
   "cell_type": "markdown",
   "id": "8b5c40f8",
   "metadata": {},
   "source": [
    "Desviación estándar = $\\sqrt{Varianza}$"
   ]
  },
  {
   "cell_type": "code",
   "execution_count": 17,
   "id": "7ec6af02",
   "metadata": {},
   "outputs": [
    {
     "name": "stdout",
     "output_type": "stream",
     "text": [
      "Varianza:  2832026.3830599478\n"
     ]
    }
   ],
   "source": [
    "print('Varianza: ', df['ingresos'].var())"
   ]
  },
  {
   "cell_type": "code",
   "execution_count": 18,
   "id": "172703a7",
   "metadata": {},
   "outputs": [
    {
     "name": "stdout",
     "output_type": "stream",
     "text": [
      "Desviación estándar:  1682.862556199985\n"
     ]
    }
   ],
   "source": [
    "print('Desviación estándar: ', df['ingresos'].std())"
   ]
  },
  {
   "cell_type": "markdown",
   "id": "43fa251d",
   "metadata": {},
   "source": [
    "## Desviación absoluta mediana"
   ]
  },
  {
   "cell_type": "markdown",
   "id": "1512c696",
   "metadata": {},
   "source": [
    "Promediar las desviaciones en sí no nos diría mucho: las desviaciones negativas compensan las positivas. De hecho, la suma de las desviaciones de la media es exactamente cero. En cambio, un enfoque simple es tomar el promedio de los valores absolutos de las desviaciones de la media. En el ejemplo anterior, el valor absoluto de las desviaciones es [2, 1, 1] y su promedio es (2 + 1+ 1) / 3 = 1.33. Esta se conoce como la desviación absoluta media y se calcula mediante la fórmula:"
   ]
  },
  {
   "cell_type": "markdown",
   "id": "080f343b",
   "metadata": {},
   "source": [
    "Desviación absoluta mediana = $Mediana(\\left | x_{1} - m \\right |, \\left | x_{2} - m \\right |, ..., \\left | x_{N} - m \\right |)$"
   ]
  },
  {
   "cell_type": "markdown",
   "id": "b0a8192f",
   "metadata": {},
   "source": [
    "La desviación estándar es mucho más fácil de interpretar que la varianza, ya que está en la misma escala que los datos originales. Aun así, con su fórmula más complicada y menos intuitiva, puede parecer extraño que en las estadísticas se prefiera la desviación estándar a la desviación media absoluta. Su preferencia se debe a que, matemáticamente, trabajar con valores cuadrados es mucho más conveniente que con valores absolutos, especialmente para modelos estadísticos."
   ]
  },
  {
   "cell_type": "code",
   "execution_count": 19,
   "id": "e73b5426",
   "metadata": {},
   "outputs": [
    {
     "name": "stdout",
     "output_type": "stream",
     "text": [
      "Desviación absoluta media:  1456.4999509851975\n"
     ]
    }
   ],
   "source": [
    "dam = pd.Series(df['ingresos'].values.flatten()).mad()\n",
    "print('Desviación absoluta media: ', dam)"
   ]
  },
  {
   "cell_type": "markdown",
   "id": "5edc3e8a",
   "metadata": {},
   "source": [
    "## Estimaciones basadas en percentiles"
   ]
  },
  {
   "cell_type": "markdown",
   "id": "db9e90d5",
   "metadata": {},
   "source": [
    "Un enfoque diferente que se puede emplear para estimar la dispersión se basa en observar la separación de los datos clasificados. Las estadísticas basadas en datos ordenados, o clasificados, se denominan estadísticas de orden. La medida más básica es el rango: la diferencia entre el número más grande y el más pequeño. Es útil conocer los valores mínimos y máximos en sí mismos y para identificar los valores atípicos, pero el rango es extremadamente sensible a los valores atípicos y no es muy útil como medida general de dispersión.\n",
    "\n",
    "Para evitar la sensibilidad a valores atípicos, podemos mirar el rango de los datos después de eliminar los valores de cada extremo. Formalmente, este tipo de estimaciones se basan en diferencias entre percentiles. En un conjunto de datos, el $n$-ésimo percentil es un valor tal que, al menos, el $n$ por ciento de los valores toman este valor o menos $(100 - n)$ por ciento de los valores toman este valor o más. Por ejemplo, si queremos conocer el percentil 80, ordenamos los dartos. Luego, comenzando con el valor más pequeño, continuamos el 80 por ciento del camino hasta el valor más grande. Ten en cuenta que la mediana es lo mismo que el percentil 50. El percentil es, esencialmente, lo mismo que un cuantil, con cuantiles indexados por fracciones (el cuantil .8 es el percentil 80).\n",
    "\n",
    "Una medida común de variabilidad es la diferencia entre el percentil 25 y el percentil 75, también llamado rango intercuartílico (o IQR). Por ejemplo, queremos conocer el IQR del conjunto de datos [3, 1, 5, 3, 6, 7, 2, 9]. Ordenamos los datos para obtener [1, 2, 3, 3, 5, 6, 7, 9]. El percentil 25 está en 2.5, el percentil 75 está en 6.5, por lo que el rango intercuartílico es 6.5 - 2.5 = 4."
   ]
  },
  {
   "cell_type": "code",
   "execution_count": 20,
   "id": "b51cfcc6",
   "metadata": {},
   "outputs": [
    {
     "data": {
      "text/plain": [
       "0.25    3513.75\n",
       "0.50    4947.50\n",
       "0.75    6374.50\n",
       "Name: ingresos, dtype: float64"
      ]
     },
     "execution_count": 20,
     "metadata": {},
     "output_type": "execute_result"
    }
   ],
   "source": [
    "df['ingresos'].quantile([0.25,0.50, 0.75])"
   ]
  },
  {
   "cell_type": "markdown",
   "id": "11d2fa75",
   "metadata": {},
   "source": [
    "## Correlación"
   ]
  },
  {
   "cell_type": "markdown",
   "id": "71f924d5",
   "metadata": {},
   "source": [
    "El coeficiente de correlación da una estimación de la relación entre dos variables. El coeficiente de correlación de Pearson se calcular multiplicando las desviaciones de la media de la variable 1 por las de la variable 2, dividiendo por el producto de las desviaciones estándar:"
   ]
  },
  {
   "cell_type": "markdown",
   "id": "163615fc",
   "metadata": {},
   "source": [
    "$r(x,y)$ = $\\frac{\\sum_{i=1}^{N}(x_{i} - \\bar{x})(y_{i} - \\bar{y})}{(N - 1)s_{x}s_{y}}$"
   ]
  },
  {
   "cell_type": "markdown",
   "id": "19c8a444",
   "metadata": {},
   "source": [
    "La correlación puede oscilar entre -1 y 1. Valores cercanos a 1, indican que existe una relación más cercana entre las dos variables; valores negativos cercanos a -1 indican una relación inversa. Por último, valores cercanos a 0, significan que no hay relación. Hay que recordar que \"correlación no significa causalidad\". En otras palabras, el hecho de que dos variables estén correlacionadas no significa que se afecten entre sí."
   ]
  },
  {
   "cell_type": "code",
   "execution_count": 16,
   "id": "afd7f49f",
   "metadata": {},
   "outputs": [
    {
     "data": {
      "text/html": [
       "<div>\n",
       "<style scoped>\n",
       "    .dataframe tbody tr th:only-of-type {\n",
       "        vertical-align: middle;\n",
       "    }\n",
       "\n",
       "    .dataframe tbody tr th {\n",
       "        vertical-align: top;\n",
       "    }\n",
       "\n",
       "    .dataframe thead th {\n",
       "        text-align: right;\n",
       "    }\n",
       "</style>\n",
       "<table border=\"1\" class=\"dataframe\">\n",
       "  <thead>\n",
       "    <tr style=\"text-align: right;\">\n",
       "      <th></th>\n",
       "      <th>ingresos</th>\n",
       "      <th>gastos_comunes</th>\n",
       "      <th>pago_coche</th>\n",
       "      <th>gastos_otros</th>\n",
       "      <th>ahorros</th>\n",
       "      <th>vivienda</th>\n",
       "      <th>estado_civil</th>\n",
       "      <th>hijos</th>\n",
       "      <th>trabajo</th>\n",
       "      <th>comprar</th>\n",
       "    </tr>\n",
       "  </thead>\n",
       "  <tbody>\n",
       "    <tr>\n",
       "      <th>0</th>\n",
       "      <td>6000</td>\n",
       "      <td>1000</td>\n",
       "      <td>0</td>\n",
       "      <td>600</td>\n",
       "      <td>50000</td>\n",
       "      <td>400000</td>\n",
       "      <td>0</td>\n",
       "      <td>2</td>\n",
       "      <td>2</td>\n",
       "      <td>1</td>\n",
       "    </tr>\n",
       "    <tr>\n",
       "      <th>1</th>\n",
       "      <td>6745</td>\n",
       "      <td>944</td>\n",
       "      <td>123</td>\n",
       "      <td>429</td>\n",
       "      <td>43240</td>\n",
       "      <td>636897</td>\n",
       "      <td>1</td>\n",
       "      <td>3</td>\n",
       "      <td>6</td>\n",
       "      <td>0</td>\n",
       "    </tr>\n",
       "    <tr>\n",
       "      <th>2</th>\n",
       "      <td>6455</td>\n",
       "      <td>1033</td>\n",
       "      <td>98</td>\n",
       "      <td>795</td>\n",
       "      <td>57463</td>\n",
       "      <td>321779</td>\n",
       "      <td>2</td>\n",
       "      <td>1</td>\n",
       "      <td>8</td>\n",
       "      <td>1</td>\n",
       "    </tr>\n",
       "    <tr>\n",
       "      <th>3</th>\n",
       "      <td>7098</td>\n",
       "      <td>1278</td>\n",
       "      <td>15</td>\n",
       "      <td>254</td>\n",
       "      <td>54506</td>\n",
       "      <td>660933</td>\n",
       "      <td>0</td>\n",
       "      <td>0</td>\n",
       "      <td>3</td>\n",
       "      <td>0</td>\n",
       "    </tr>\n",
       "    <tr>\n",
       "      <th>4</th>\n",
       "      <td>6167</td>\n",
       "      <td>863</td>\n",
       "      <td>223</td>\n",
       "      <td>520</td>\n",
       "      <td>41512</td>\n",
       "      <td>348932</td>\n",
       "      <td>0</td>\n",
       "      <td>0</td>\n",
       "      <td>3</td>\n",
       "      <td>1</td>\n",
       "    </tr>\n",
       "    <tr>\n",
       "      <th>...</th>\n",
       "      <td>...</td>\n",
       "      <td>...</td>\n",
       "      <td>...</td>\n",
       "      <td>...</td>\n",
       "      <td>...</td>\n",
       "      <td>...</td>\n",
       "      <td>...</td>\n",
       "      <td>...</td>\n",
       "      <td>...</td>\n",
       "      <td>...</td>\n",
       "    </tr>\n",
       "    <tr>\n",
       "      <th>197</th>\n",
       "      <td>3831</td>\n",
       "      <td>690</td>\n",
       "      <td>352</td>\n",
       "      <td>488</td>\n",
       "      <td>10723</td>\n",
       "      <td>363120</td>\n",
       "      <td>0</td>\n",
       "      <td>0</td>\n",
       "      <td>2</td>\n",
       "      <td>0</td>\n",
       "    </tr>\n",
       "    <tr>\n",
       "      <th>198</th>\n",
       "      <td>3961</td>\n",
       "      <td>1030</td>\n",
       "      <td>270</td>\n",
       "      <td>475</td>\n",
       "      <td>21880</td>\n",
       "      <td>280421</td>\n",
       "      <td>2</td>\n",
       "      <td>3</td>\n",
       "      <td>8</td>\n",
       "      <td>0</td>\n",
       "    </tr>\n",
       "    <tr>\n",
       "      <th>199</th>\n",
       "      <td>3184</td>\n",
       "      <td>955</td>\n",
       "      <td>276</td>\n",
       "      <td>684</td>\n",
       "      <td>35565</td>\n",
       "      <td>388025</td>\n",
       "      <td>1</td>\n",
       "      <td>3</td>\n",
       "      <td>8</td>\n",
       "      <td>0</td>\n",
       "    </tr>\n",
       "    <tr>\n",
       "      <th>200</th>\n",
       "      <td>3334</td>\n",
       "      <td>867</td>\n",
       "      <td>369</td>\n",
       "      <td>652</td>\n",
       "      <td>19985</td>\n",
       "      <td>376892</td>\n",
       "      <td>1</td>\n",
       "      <td>2</td>\n",
       "      <td>5</td>\n",
       "      <td>0</td>\n",
       "    </tr>\n",
       "    <tr>\n",
       "      <th>201</th>\n",
       "      <td>3988</td>\n",
       "      <td>1157</td>\n",
       "      <td>105</td>\n",
       "      <td>382</td>\n",
       "      <td>11980</td>\n",
       "      <td>257580</td>\n",
       "      <td>0</td>\n",
       "      <td>0</td>\n",
       "      <td>4</td>\n",
       "      <td>0</td>\n",
       "    </tr>\n",
       "  </tbody>\n",
       "</table>\n",
       "<p>202 rows × 10 columns</p>\n",
       "</div>"
      ],
      "text/plain": [
       "     ingresos  gastos_comunes  pago_coche  gastos_otros  ahorros  vivienda  \\\n",
       "0        6000            1000           0           600    50000    400000   \n",
       "1        6745             944         123           429    43240    636897   \n",
       "2        6455            1033          98           795    57463    321779   \n",
       "3        7098            1278          15           254    54506    660933   \n",
       "4        6167             863         223           520    41512    348932   \n",
       "..        ...             ...         ...           ...      ...       ...   \n",
       "197      3831             690         352           488    10723    363120   \n",
       "198      3961            1030         270           475    21880    280421   \n",
       "199      3184             955         276           684    35565    388025   \n",
       "200      3334             867         369           652    19985    376892   \n",
       "201      3988            1157         105           382    11980    257580   \n",
       "\n",
       "     estado_civil  hijos  trabajo  comprar  \n",
       "0               0      2        2        1  \n",
       "1               1      3        6        0  \n",
       "2               2      1        8        1  \n",
       "3               0      0        3        0  \n",
       "4               0      0        3        1  \n",
       "..            ...    ...      ...      ...  \n",
       "197             0      0        2        0  \n",
       "198             2      3        8        0  \n",
       "199             1      3        8        0  \n",
       "200             1      2        5        0  \n",
       "201             0      0        4        0  \n",
       "\n",
       "[202 rows x 10 columns]"
      ]
     },
     "execution_count": 16,
     "metadata": {},
     "output_type": "execute_result"
    }
   ],
   "source": [
    "df"
   ]
  },
  {
   "cell_type": "code",
   "execution_count": 17,
   "id": "9f7bc97e",
   "metadata": {},
   "outputs": [
    {
     "data": {
      "text/html": [
       "<div>\n",
       "<style scoped>\n",
       "    .dataframe tbody tr th:only-of-type {\n",
       "        vertical-align: middle;\n",
       "    }\n",
       "\n",
       "    .dataframe tbody tr th {\n",
       "        vertical-align: top;\n",
       "    }\n",
       "\n",
       "    .dataframe thead th {\n",
       "        text-align: right;\n",
       "    }\n",
       "</style>\n",
       "<table border=\"1\" class=\"dataframe\">\n",
       "  <thead>\n",
       "    <tr style=\"text-align: right;\">\n",
       "      <th></th>\n",
       "      <th>hijos</th>\n",
       "      <th>ingresos</th>\n",
       "      <th>gastos</th>\n",
       "    </tr>\n",
       "  </thead>\n",
       "  <tbody>\n",
       "    <tr>\n",
       "      <th>0</th>\n",
       "      <td>2</td>\n",
       "      <td>6000</td>\n",
       "      <td>1600</td>\n",
       "    </tr>\n",
       "    <tr>\n",
       "      <th>1</th>\n",
       "      <td>3</td>\n",
       "      <td>6745</td>\n",
       "      <td>1496</td>\n",
       "    </tr>\n",
       "    <tr>\n",
       "      <th>2</th>\n",
       "      <td>1</td>\n",
       "      <td>6455</td>\n",
       "      <td>1926</td>\n",
       "    </tr>\n",
       "    <tr>\n",
       "      <th>3</th>\n",
       "      <td>0</td>\n",
       "      <td>7098</td>\n",
       "      <td>1547</td>\n",
       "    </tr>\n",
       "    <tr>\n",
       "      <th>4</th>\n",
       "      <td>0</td>\n",
       "      <td>6167</td>\n",
       "      <td>1606</td>\n",
       "    </tr>\n",
       "    <tr>\n",
       "      <th>...</th>\n",
       "      <td>...</td>\n",
       "      <td>...</td>\n",
       "      <td>...</td>\n",
       "    </tr>\n",
       "    <tr>\n",
       "      <th>197</th>\n",
       "      <td>0</td>\n",
       "      <td>3831</td>\n",
       "      <td>1530</td>\n",
       "    </tr>\n",
       "    <tr>\n",
       "      <th>198</th>\n",
       "      <td>3</td>\n",
       "      <td>3961</td>\n",
       "      <td>1775</td>\n",
       "    </tr>\n",
       "    <tr>\n",
       "      <th>199</th>\n",
       "      <td>3</td>\n",
       "      <td>3184</td>\n",
       "      <td>1915</td>\n",
       "    </tr>\n",
       "    <tr>\n",
       "      <th>200</th>\n",
       "      <td>2</td>\n",
       "      <td>3334</td>\n",
       "      <td>1888</td>\n",
       "    </tr>\n",
       "    <tr>\n",
       "      <th>201</th>\n",
       "      <td>0</td>\n",
       "      <td>3988</td>\n",
       "      <td>1644</td>\n",
       "    </tr>\n",
       "  </tbody>\n",
       "</table>\n",
       "<p>202 rows × 3 columns</p>\n",
       "</div>"
      ],
      "text/plain": [
       "     hijos  ingresos  gastos\n",
       "0        2      6000    1600\n",
       "1        3      6745    1496\n",
       "2        1      6455    1926\n",
       "3        0      7098    1547\n",
       "4        0      6167    1606\n",
       "..     ...       ...     ...\n",
       "197      0      3831    1530\n",
       "198      3      3961    1775\n",
       "199      3      3184    1915\n",
       "200      2      3334    1888\n",
       "201      0      3988    1644\n",
       "\n",
       "[202 rows x 3 columns]"
      ]
     },
     "execution_count": 17,
     "metadata": {},
     "output_type": "execute_result"
    }
   ],
   "source": [
    "selected = df[['hijos', 'ingresos']]\n",
    "aux = (df['gastos_comunes'] + df['pago_coche'] + df['gastos_otros']).values\n",
    "selected = selected.assign(gastos = aux)\n",
    "selected"
   ]
  },
  {
   "cell_type": "code",
   "execution_count": 71,
   "id": "cc660b30",
   "metadata": {},
   "outputs": [
    {
     "name": "stdout",
     "output_type": "stream",
     "text": [
      "Correlación Pearson:  -0.013227831122921273\n",
      "Correlación spearman:  -0.015689487358224386\n",
      "Correlación kendall:  -0.012304208834291197\n"
     ]
    }
   ],
   "source": [
    "print('Correlación Pearson: ', selected['hijos'].corr(selected['gastos'], method='pearson'))\n",
    "print('Correlación spearman: ', selected['hijos'].corr(selected['gastos'], method='spearman'))\n",
    "print('Correlación kendall: ', selected['hijos'].corr(selected['gastos'], method='kendall'))"
   ]
  },
  {
   "cell_type": "code",
   "execution_count": 72,
   "id": "38f89fcc",
   "metadata": {},
   "outputs": [
    {
     "name": "stdout",
     "output_type": "stream",
     "text": [
      "Correlación Pearson:  0.3628225113311151\n",
      "Correlación spearman:  0.35388389040394264\n",
      "Correlación kendall:  0.24451179550071883\n"
     ]
    }
   ],
   "source": [
    "print('Correlación Pearson: ', selected['ingresos'].corr(selected['gastos'], method='pearson'))\n",
    "print('Correlación spearman: ', selected['ingresos'].corr(selected['gastos'], method='spearman'))\n",
    "print('Correlación kendall: ', selected['ingresos'].corr(selected['gastos'], method='kendall'))"
   ]
  },
  {
   "cell_type": "markdown",
   "id": "c2a11d5b",
   "metadata": {},
   "source": [
    "Una limitación de Pandas es que no calcula la significancia estadística. \n",
    "\n",
    "Como mencionamos antes, el coeficiente de correlación, $r$ ,es un valor sin unidades entre -1 y 1. La significancia estadística se indica con un valor $p$. Por lo tanto, usualmente las correlaciones se escriben con dos números clave: $r$ = y $p$ = .\n",
    "* Cuanto más se aproxima $r$ a cero, más débil es la relación lineal.\n",
    "* Los valores de $r$ positivos indican una correlación positiva, en la que los valores de ambas variables tienden a incrementarse juntos.\n",
    "* Los valores de $r$ negativos indican una correlación negativa, en la que los valores de una variable tienden a incrementarse mientras que los valores de la otra variable descienden.\n",
    "* Los valores 1 y -1 representan una correlación \"perfecta\" positiva y negativa, respectivamente. Dos variables perfectamente correlacionadas cambian conjuntamente a una tasa fija. Decimos que tienen una relación linear; cuando representados en un gráfico de dispersión, todos los puntos correspondientes a los datos pueden conectarse con una misma línea recta.\n",
    "* El valor $p$ nos ayuda a determinar si podemos o no concluir de manera significativa que el coeficiente de correlación de la población es diferente a cero, basándonos en lo que observamos en la muestra.\n",
    "\n",
    "El valor $p$ es una medida de probabilidad empleada para hacer pruebas de hipótesis. El objetivo de una prueba de hipótesis es determinar si hay evidencia suficiente para apoyar una determinada hipótesis sobre los datos. De hecho, formulamos dos hipótesis: la hipótesis nula y la hipótesis alternativa. En el análisis de correlación, usualmente, **la hipótesis nula expresa que la relación observada entre las variables es producto del mero azar** (esto es, que el coeficiente de correlación en realidad es cero y no hay una relación lineal). La **hipótesis alternativa expresa que la correlación que hemos medido está legítimamente presente en nuestros datos** (esto es, que el coeficiente de correlación es distinto a cero).\n",
    "\n",
    "El valor $p$ es la probabilidad de observar un coeficiente de correlación distinto a cero en los datos de nuestra muestra cuando en realidad la hipótesis nula es verdadera. **Un valor p bajo nos lleva a rechazar la hipótesis nula. Un umbral típico para rechazar la hipótesis nula es un valor p de 0,05. Esto es, si el valor p es inferior a 0,05, rechazaríamos la hipótesis nula en favor de la hipótesis alternativa: que el coeficiente de correlación es diferente a cero**."
   ]
  },
  {
   "cell_type": "code",
   "execution_count": 73,
   "id": "e5f0cef0",
   "metadata": {},
   "outputs": [],
   "source": [
    "from scipy import stats\n",
    "from scipy.stats import pearsonr"
   ]
  },
  {
   "cell_type": "code",
   "execution_count": 74,
   "id": "85e4eac7",
   "metadata": {},
   "outputs": [
    {
     "name": "stdout",
     "output_type": "stream",
     "text": [
      "Correlación Pearson: r=-0.013227831122921243, p-value=0.851782736653732\n",
      "Correlación Spearman: r=-0.015689487358224386, p-value=0.8246102381082991\n",
      "Correlación Pearson: r=-0.012304208834291197, p-value=0.8155465256085394\n"
     ]
    }
   ],
   "source": [
    "r, p = stats.pearsonr(selected['hijos'], selected['gastos'])\n",
    "print(f\"Correlación Pearson: r={r}, p-value={p}\")\n",
    "\n",
    "r, p = stats.spearmanr(selected['hijos'], selected['gastos'])\n",
    "print(f\"Correlación Spearman: r={r}, p-value={p}\")\n",
    "\n",
    "r, p = stats.kendalltau(selected['hijos'], selected['gastos'])\n",
    "print(f\"Correlación Pearson: r={r}, p-value={p}\")"
   ]
  },
  {
   "cell_type": "code",
   "execution_count": 75,
   "id": "d0210b9e",
   "metadata": {},
   "outputs": [
    {
     "name": "stdout",
     "output_type": "stream",
     "text": [
      "Correlación Pearson: r=0.36282251133111526, p-value=1.1167959359092352e-07\n",
      "Correlación Spearman: r=0.35388389040394264, p-value=2.3840275027781308e-07\n",
      "Correlación Pearson: r=0.24451179550071883, p-value=2.3905377446810804e-07\n"
     ]
    }
   ],
   "source": [
    "r, p = stats.pearsonr(selected['ingresos'], selected['gastos'])\n",
    "print(f\"Correlación Pearson: r={r}, p-value={p}\")\n",
    "\n",
    "r, p = stats.spearmanr(selected['ingresos'], selected['gastos'])\n",
    "print(f\"Correlación Spearman: r={r}, p-value={p}\")\n",
    "\n",
    "r, p = stats.kendalltau(selected['ingresos'], selected['gastos'])\n",
    "print(f\"Correlación Pearson: r={r}, p-value={p}\")"
   ]
  },
  {
   "cell_type": "markdown",
   "id": "4eacf67b",
   "metadata": {},
   "source": [
    "## Covarianza"
   ]
  },
  {
   "cell_type": "markdown",
   "id": "497110ed",
   "metadata": {},
   "source": [
    "La covarianza es el valor que refleja en qué cuantía dos variables aleatorias varían de forma conjunta respecto a sus medias. Nos permite saber cómo se comporta una variable en función de lo que hace otra variable. Es decir, cuando $X$ sube ¿Cómo se comporta $Y$? Así pues, la covarianza puede tomar los siguiente valores:\n",
    "* Si $Covarianza(X,Y)$ es menor que cero, entonces cuando $X$ sube, $Y$ baja. Hay una relación negativa.\n",
    "* Si $Covarianza(X,Y)$ es mayor que cero, entonces cuando $X$ sube, $Y$ sube. Hay una relación positiva.\n",
    "* Si $Covarianza(X,Y)$ es igual a cero, no hya relación entre $X$  y $Y$."
   ]
  },
  {
   "cell_type": "code",
   "execution_count": 82,
   "id": "2ae2a392",
   "metadata": {},
   "outputs": [
    {
     "data": {
      "text/plain": [
       "198339.7251366927"
      ]
     },
     "execution_count": 82,
     "metadata": {},
     "output_type": "execute_result"
    }
   ],
   "source": [
    "selected['ingresos'].cov(selected['gastos'])"
   ]
  }
 ],
 "metadata": {
  "kernelspec": {
   "display_name": "Python 3 (ipykernel)",
   "language": "python",
   "name": "python3"
  },
  "language_info": {
   "codemirror_mode": {
    "name": "ipython",
    "version": 3
   },
   "file_extension": ".py",
   "mimetype": "text/x-python",
   "name": "python",
   "nbconvert_exporter": "python",
   "pygments_lexer": "ipython3",
   "version": "3.8.11"
  }
 },
 "nbformat": 4,
 "nbformat_minor": 5
}
